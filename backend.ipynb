{
 "cells": [
  {
   "cell_type": "code",
   "execution_count": 19,
   "metadata": {},
   "outputs": [
    {
     "name": "stdout",
     "output_type": "stream",
     "text": [
      " * Serving Flask app '__main__'\n",
      " * Debug mode: off\n"
     ]
    },
    {
     "name": "stderr",
     "output_type": "stream",
     "text": [
      "WARNING: This is a development server. Do not use it in a production deployment. Use a production WSGI server instead.\n",
      " * Running on http://127.0.0.1:5000\n"
     ]
    },
    {
     "name": "stdout",
     "output_type": "stream",
     "text": [
      "INFO:werkzeug:\u001b[31m\u001b[1mWARNING: This is a development server. Do not use it in a production deployment. Use a production WSGI server instead.\u001b[0m\n",
      " * Running on http://127.0.0.1:5000\n",
      "\u001b[31m\u001b[1mWARNING: This is a development server. Do not use it in a production deployment. Use a production WSGI server instead.\u001b[0m\n",
      " * Running on http://127.0.0.1:5000\n",
      "\u001b[31m\u001b[1mWARNING: This is a development server. Do not use it in a production deployment. Use a production WSGI server instead.\u001b[0m\n",
      " * Running on http://127.0.0.1:5000\n",
      "\u001b[31m\u001b[1mWARNING: This is a development server. Do not use it in a production deployment. Use a production WSGI server instead.\u001b[0m\n",
      " * Running on http://127.0.0.1:5000\n",
      "\u001b[31m\u001b[1mWARNING: This is a development server. Do not use it in a production deployment. Use a production WSGI server instead.\u001b[0m\n",
      " * Running on http://127.0.0.1:5000\n",
      "\u001b[31m\u001b[1mWARNING: This is a development server. Do not use it in a production deployment. Use a production WSGI server instead.\u001b[0m\n",
      " * Running on http://127.0.0.1:5000\n",
      "\u001b[31m\u001b[1mWARNING: This is a development server. Do not use it in a production deployment. Use a production WSGI server instead.\u001b[0m\n",
      " * Running on http://127.0.0.1:5000\n",
      "\u001b[31m\u001b[1mWARNING: This is a development server. Do not use it in a production deployment. Use a production WSGI server instead.\u001b[0m\n",
      " * Running on http://127.0.0.1:5000\n",
      "\u001b[31m\u001b[1mWARNING: This is a development server. Do not use it in a production deployment. Use a production WSGI server instead.\u001b[0m\n",
      " * Running on http://127.0.0.1:5000\n"
     ]
    },
    {
     "name": "stderr",
     "output_type": "stream",
     "text": [
      "Press CTRL+C to quit\n"
     ]
    },
    {
     "name": "stdout",
     "output_type": "stream",
     "text": [
      "INFO:werkzeug:\u001b[33mPress CTRL+C to quit\u001b[0m\n",
      "\u001b[33mPress CTRL+C to quit\u001b[0m\n",
      "\u001b[33mPress CTRL+C to quit\u001b[0m\n",
      "\u001b[33mPress CTRL+C to quit\u001b[0m\n",
      "\u001b[33mPress CTRL+C to quit\u001b[0m\n",
      "\u001b[33mPress CTRL+C to quit\u001b[0m\n",
      "\u001b[33mPress CTRL+C to quit\u001b[0m\n",
      "\u001b[33mPress CTRL+C to quit\u001b[0m\n",
      "\u001b[33mPress CTRL+C to quit\u001b[0m\n"
     ]
    },
    {
     "name": "stderr",
     "output_type": "stream",
     "text": [
      "127.0.0.1 - - [06/Nov/2023 16:56:51] \"GET / HTTP/1.1\" 200 -\n"
     ]
    },
    {
     "name": "stdout",
     "output_type": "stream",
     "text": [
      "INFO:werkzeug:127.0.0.1 - - [06/Nov/2023 16:56:51] \"GET / HTTP/1.1\" 200 -\n",
      "127.0.0.1 - - [06/Nov/2023 16:56:51] \"GET / HTTP/1.1\" 200 -\n",
      "127.0.0.1 - - [06/Nov/2023 16:56:51] \"GET / HTTP/1.1\" 200 -\n",
      "127.0.0.1 - - [06/Nov/2023 16:56:51] \"GET / HTTP/1.1\" 200 -\n",
      "127.0.0.1 - - [06/Nov/2023 16:56:51] \"GET / HTTP/1.1\" 200 -\n",
      "127.0.0.1 - - [06/Nov/2023 16:56:51] \"GET / HTTP/1.1\" 200 -\n",
      "127.0.0.1 - - [06/Nov/2023 16:56:51] \"GET / HTTP/1.1\" 200 -\n",
      "127.0.0.1 - - [06/Nov/2023 16:56:51] \"GET / HTTP/1.1\" 200 -\n",
      "127.0.0.1 - - [06/Nov/2023 16:56:51] \"GET / HTTP/1.1\" 200 -\n"
     ]
    },
    {
     "name": "stderr",
     "output_type": "stream",
     "text": [
      "127.0.0.1 - - [06/Nov/2023 16:56:51] \"GET /static/styles.css HTTP/1.1\" 304 -\n"
     ]
    },
    {
     "name": "stdout",
     "output_type": "stream",
     "text": [
      "INFO:werkzeug:127.0.0.1 - - [06/Nov/2023 16:56:51] \"\u001b[36mGET /static/styles.css HTTP/1.1\u001b[0m\" 304 -\n",
      "127.0.0.1 - - [06/Nov/2023 16:56:51] \"\u001b[36mGET /static/styles.css HTTP/1.1\u001b[0m\" 304 -\n",
      "127.0.0.1 - - [06/Nov/2023 16:56:51] \"\u001b[36mGET /static/styles.css HTTP/1.1\u001b[0m\" 304 -\n",
      "127.0.0.1 - - [06/Nov/2023 16:56:51] \"\u001b[36mGET /static/styles.css HTTP/1.1\u001b[0m\" 304 -\n",
      "127.0.0.1 - - [06/Nov/2023 16:56:51] \"\u001b[36mGET /static/styles.css HTTP/1.1\u001b[0m\" 304 -\n",
      "127.0.0.1 - - [06/Nov/2023 16:56:51] \"\u001b[36mGET /static/styles.css HTTP/1.1\u001b[0m\" 304 -\n",
      "127.0.0.1 - - [06/Nov/2023 16:56:51] \"\u001b[36mGET /static/styles.css HTTP/1.1\u001b[0m\" 304 -\n",
      "127.0.0.1 - - [06/Nov/2023 16:56:51] \"\u001b[36mGET /static/styles.css HTTP/1.1\u001b[0m\" 304 -\n",
      "127.0.0.1 - - [06/Nov/2023 16:56:51] \"\u001b[36mGET /static/styles.css HTTP/1.1\u001b[0m\" 304 -\n"
     ]
    },
    {
     "name": "stderr",
     "output_type": "stream",
     "text": [
      "127.0.0.1 - - [06/Nov/2023 16:56:57] \"POST /ok HTTP/1.1\" 404 -\n"
     ]
    },
    {
     "name": "stdout",
     "output_type": "stream",
     "text": [
      "INFO:werkzeug:127.0.0.1 - - [06/Nov/2023 16:56:57] \"\u001b[33mPOST /ok HTTP/1.1\u001b[0m\" 404 -\n",
      "127.0.0.1 - - [06/Nov/2023 16:56:57] \"\u001b[33mPOST /ok HTTP/1.1\u001b[0m\" 404 -\n",
      "127.0.0.1 - - [06/Nov/2023 16:56:57] \"\u001b[33mPOST /ok HTTP/1.1\u001b[0m\" 404 -\n",
      "127.0.0.1 - - [06/Nov/2023 16:56:57] \"\u001b[33mPOST /ok HTTP/1.1\u001b[0m\" 404 -\n",
      "127.0.0.1 - - [06/Nov/2023 16:56:57] \"\u001b[33mPOST /ok HTTP/1.1\u001b[0m\" 404 -\n",
      "127.0.0.1 - - [06/Nov/2023 16:56:57] \"\u001b[33mPOST /ok HTTP/1.1\u001b[0m\" 404 -\n",
      "127.0.0.1 - - [06/Nov/2023 16:56:57] \"\u001b[33mPOST /ok HTTP/1.1\u001b[0m\" 404 -\n",
      "127.0.0.1 - - [06/Nov/2023 16:56:57] \"\u001b[33mPOST /ok HTTP/1.1\u001b[0m\" 404 -\n",
      "127.0.0.1 - - [06/Nov/2023 16:56:57] \"\u001b[33mPOST /ok HTTP/1.1\u001b[0m\" 404 -\n",
      "INFO:llama_index.indices.loading:Loading all indices.\n",
      "Loading all indices.\n",
      "Loading all indices.\n",
      "Loading all indices.\n",
      "Loading all indices.\n",
      "Loading all indices.\n",
      "Loading all indices.\n",
      "Loading all indices.\n",
      "Loading all indices.\n",
      "Loading all indices.\n",
      "[('14', 'appartement', 1910.0, 10, 'electricite', 'electricite', 'double vitrage', 'A', 23.34, 5.46), ('14', 'appartement', 1910.0, 10, 'electricite', 'electricite', 'simple vitrage', 'A', 23.34, 5.46)]\n",
      "\u001b[1;3;34mQuerying SQL database: This choice is relevant because it mentions a table containing energy consumption performances of houses and apartments, which is related to the question about identifying energy savings and transitioning from one energy class to another.\n",
      "\u001b[0mINFO:llama_index.query_engine.sql_join_query_engine:> Querying SQL database: This choice is relevant because it mentions a table containing energy consumption performances of houses and apartments, which is related to the question about identifying energy savings and transitioning from one energy class to another.\n",
      "> Querying SQL database: This choice is relevant because it mentions a table containing energy consumption performances of houses and apartments, which is related to the question about identifying energy savings and transitioning from one energy class to another.\n",
      "> Querying SQL database: This choice is relevant because it mentions a table containing energy consumption performances of houses and apartments, which is related to the question about identifying energy savings and transitioning from one energy class to another.\n",
      "> Querying SQL database: This choice is relevant because it mentions a table containing energy consumption performances of houses and apartments, which is related to the question about identifying energy savings and transitioning from one energy class to another.\n",
      "> Querying SQL database: This choice is relevant because it mentions a table containing energy consumption performances of houses and apartments, which is related to the question about identifying energy savings and transitioning from one energy class to another.\n",
      "> Querying SQL database: This choice is relevant because it mentions a table containing energy consumption performances of houses and apartments, which is related to the question about identifying energy savings and transitioning from one energy class to another.\n",
      "> Querying SQL database: This choice is relevant because it mentions a table containing energy consumption performances of houses and apartments, which is related to the question about identifying energy savings and transitioning from one energy class to another.\n",
      "> Querying SQL database: This choice is relevant because it mentions a table containing energy consumption performances of houses and apartments, which is related to the question about identifying energy savings and transitioning from one energy class to another.\n",
      "> Querying SQL database: This choice is relevant because it mentions a table containing energy consumption performances of houses and apartments, which is related to the question about identifying energy savings and transitioning from one energy class to another.\n",
      "> Querying SQL database: This choice is relevant because it mentions a table containing energy consumption performances of houses and apartments, which is related to the question about identifying energy savings and transitioning from one energy class to another.\n",
      "INFO:llama_index.indices.struct_store.sql_retriever:> Table desc str: Table 'database_dpe' has columns: code_departement_insee (TEXT), type_batiment_dpe (TEXT), annee_construction_dpe (FLOAT), surface_habitable_logement (BIGINT), type_energie_chauffage (TEXT), type_energie_ecs (TEXT), type_vitrage (TEXT), classe_dpe (TEXT), conso_energies_primaires_m2 (FLOAT), emission_ges_m2 (FLOAT), and foreign keys: .\n",
      "> Table desc str: Table 'database_dpe' has columns: code_departement_insee (TEXT), type_batiment_dpe (TEXT), annee_construction_dpe (FLOAT), surface_habitable_logement (BIGINT), type_energie_chauffage (TEXT), type_energie_ecs (TEXT), type_vitrage (TEXT), classe_dpe (TEXT), conso_energies_primaires_m2 (FLOAT), emission_ges_m2 (FLOAT), and foreign keys: .\n",
      "> Table desc str: Table 'database_dpe' has columns: code_departement_insee (TEXT), type_batiment_dpe (TEXT), annee_construction_dpe (FLOAT), surface_habitable_logement (BIGINT), type_energie_chauffage (TEXT), type_energie_ecs (TEXT), type_vitrage (TEXT), classe_dpe (TEXT), conso_energies_primaires_m2 (FLOAT), emission_ges_m2 (FLOAT), and foreign keys: .\n",
      "> Table desc str: Table 'database_dpe' has columns: code_departement_insee (TEXT), type_batiment_dpe (TEXT), annee_construction_dpe (FLOAT), surface_habitable_logement (BIGINT), type_energie_chauffage (TEXT), type_energie_ecs (TEXT), type_vitrage (TEXT), classe_dpe (TEXT), conso_energies_primaires_m2 (FLOAT), emission_ges_m2 (FLOAT), and foreign keys: .\n",
      "> Table desc str: Table 'database_dpe' has columns: code_departement_insee (TEXT), type_batiment_dpe (TEXT), annee_construction_dpe (FLOAT), surface_habitable_logement (BIGINT), type_energie_chauffage (TEXT), type_energie_ecs (TEXT), type_vitrage (TEXT), classe_dpe (TEXT), conso_energies_primaires_m2 (FLOAT), emission_ges_m2 (FLOAT), and foreign keys: .\n",
      "> Table desc str: Table 'database_dpe' has columns: code_departement_insee (TEXT), type_batiment_dpe (TEXT), annee_construction_dpe (FLOAT), surface_habitable_logement (BIGINT), type_energie_chauffage (TEXT), type_energie_ecs (TEXT), type_vitrage (TEXT), classe_dpe (TEXT), conso_energies_primaires_m2 (FLOAT), emission_ges_m2 (FLOAT), and foreign keys: .\n",
      "> Table desc str: Table 'database_dpe' has columns: code_departement_insee (TEXT), type_batiment_dpe (TEXT), annee_construction_dpe (FLOAT), surface_habitable_logement (BIGINT), type_energie_chauffage (TEXT), type_energie_ecs (TEXT), type_vitrage (TEXT), classe_dpe (TEXT), conso_energies_primaires_m2 (FLOAT), emission_ges_m2 (FLOAT), and foreign keys: .\n",
      "> Table desc str: Table 'database_dpe' has columns: code_departement_insee (TEXT), type_batiment_dpe (TEXT), annee_construction_dpe (FLOAT), surface_habitable_logement (BIGINT), type_energie_chauffage (TEXT), type_energie_ecs (TEXT), type_vitrage (TEXT), classe_dpe (TEXT), conso_energies_primaires_m2 (FLOAT), emission_ges_m2 (FLOAT), and foreign keys: .\n",
      "> Table desc str: Table 'database_dpe' has columns: code_departement_insee (TEXT), type_batiment_dpe (TEXT), annee_construction_dpe (FLOAT), surface_habitable_logement (BIGINT), type_energie_chauffage (TEXT), type_energie_ecs (TEXT), type_vitrage (TEXT), classe_dpe (TEXT), conso_energies_primaires_m2 (FLOAT), emission_ges_m2 (FLOAT), and foreign keys: .\n",
      "> Table desc str: Table 'database_dpe' has columns: code_departement_insee (TEXT), type_batiment_dpe (TEXT), annee_construction_dpe (FLOAT), surface_habitable_logement (BIGINT), type_energie_chauffage (TEXT), type_energie_ecs (TEXT), type_vitrage (TEXT), classe_dpe (TEXT), conso_energies_primaires_m2 (FLOAT), emission_ges_m2 (FLOAT), and foreign keys: .\n",
      "\u001b[1;3;33mSQL query: SELECT type_energie_chauffage, type_energie_ecs, conso_energies_primaires_m2, emission_ges_m2\n",
      "FROM database_dpe\n",
      "WHERE code_departement_insee = '76' AND surface_habitable_logement = 50 AND classe_dpe = 'D'\n",
      "ORDER BY conso_energies_primaires_m2 ASC\n",
      "LIMIT 5;\n",
      "\u001b[0m\u001b[1;3;33mSQL response: To go from classe_dpe D to C for your 50 square meter apartment in department 76, there are several energy-saving options available. Based on the query results, here are some options for you:\n",
      "\n",
      "1. Heating Energy: Consider using gas as the energy source for heating. It has a relatively lower primary energy consumption per square meter compared to other options.\n",
      "2. Hot Water Energy: Opt for a network of heat for hot water energy. It has a lower primary energy consumption per square meter compared to other options.\n",
      "3. Energy Consumption: Focus on reducing your overall energy consumption. This can be achieved by implementing energy-efficient practices such as using energy-saving appliances, insulating your apartment, and optimizing your energy usage habits.\n",
      "4. Greenhouse Gas Emissions: To reduce greenhouse gas emissions, you can explore options like using solar energy for hot water or switching to a more environmentally friendly energy source like gas.\n",
      "\n",
      "In terms of financial aids available, you can look into various government programs and incentives that promote energy efficiency. These programs may offer financial assistance, tax credits, or subsidies for energy-saving renovations, installations, or upgrades. It is recommended to consult with local energy agencies or authorities to get detailed information about the specific financial aids available in your area.\n",
      "\u001b[0m\u001b[1;3;34mTransformed query given SQL response: None\n",
      "\u001b[0mINFO:llama_index.query_engine.sql_join_query_engine:> Transformed query given SQL response: None\n",
      "> Transformed query given SQL response: None\n",
      "> Transformed query given SQL response: None\n",
      "> Transformed query given SQL response: None\n",
      "> Transformed query given SQL response: None\n",
      "> Transformed query given SQL response: None\n",
      "> Transformed query given SQL response: None\n",
      "> Transformed query given SQL response: None\n",
      "> Transformed query given SQL response: None\n",
      "> Transformed query given SQL response: None\n"
     ]
    },
    {
     "name": "stderr",
     "output_type": "stream",
     "text": [
      "127.0.0.1 - - [06/Nov/2023 17:04:08] \"GET /ok/ HTTP/1.1\" 200 -\n"
     ]
    },
    {
     "name": "stdout",
     "output_type": "stream",
     "text": [
      "INFO:werkzeug:127.0.0.1 - - [06/Nov/2023 17:04:08] \"GET /ok/ HTTP/1.1\" 200 -\n",
      "127.0.0.1 - - [06/Nov/2023 17:04:08] \"GET /ok/ HTTP/1.1\" 200 -\n",
      "127.0.0.1 - - [06/Nov/2023 17:04:08] \"GET /ok/ HTTP/1.1\" 200 -\n",
      "127.0.0.1 - - [06/Nov/2023 17:04:08] \"GET /ok/ HTTP/1.1\" 200 -\n",
      "127.0.0.1 - - [06/Nov/2023 17:04:08] \"GET /ok/ HTTP/1.1\" 200 -\n",
      "127.0.0.1 - - [06/Nov/2023 17:04:08] \"GET /ok/ HTTP/1.1\" 200 -\n",
      "127.0.0.1 - - [06/Nov/2023 17:04:08] \"GET /ok/ HTTP/1.1\" 200 -\n",
      "127.0.0.1 - - [06/Nov/2023 17:04:08] \"GET /ok/ HTTP/1.1\" 200 -\n",
      "127.0.0.1 - - [06/Nov/2023 17:04:08] \"GET /ok/ HTTP/1.1\" 200 -\n",
      "127.0.0.1 - - [06/Nov/2023 17:04:08] \"GET /ok/ HTTP/1.1\" 200 -\n"
     ]
    }
   ],
   "source": [
    "from flask import Flask, render_template\n",
    "from fct import fcts\n",
    "\n",
    "app = Flask(__name__)\n",
    "\n",
    "@app.route('/')\n",
    "def hello_world():\n",
    "    return render_template(\"accueil.html\")\n",
    "\n",
    "\n",
    "@app.route(\"/ok/\")\n",
    "async def start_event():\n",
    "    #on initialise le serveur\n",
    "    global query_engine\n",
    "    query_engine = fcts.test1()\n",
    "    return fcts.resultat(query_engine)\n",
    "\n",
    "if __name__ == '__main__':\n",
    "    app.run()\n"
   ]
  },
  {
   "cell_type": "code",
   "execution_count": null,
   "metadata": {},
   "outputs": [],
   "source": []
  },
  {
   "cell_type": "code",
   "execution_count": null,
   "metadata": {},
   "outputs": [],
   "source": []
  }
 ],
 "metadata": {
  "kernelspec": {
   "display_name": "base",
   "language": "python",
   "name": "python3"
  },
  "language_info": {
   "codemirror_mode": {
    "name": "ipython",
    "version": 3
   },
   "file_extension": ".py",
   "mimetype": "text/x-python",
   "name": "python",
   "nbconvert_exporter": "python",
   "pygments_lexer": "ipython3",
   "version": "3.9.13"
  }
 },
 "nbformat": 4,
 "nbformat_minor": 2
}
